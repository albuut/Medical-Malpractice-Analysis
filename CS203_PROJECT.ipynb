{
  "nbformat": 4,
  "nbformat_minor": 0,
  "metadata": {
    "colab": {
      "provenance": [],
      "authorship_tag": "ABX9TyMEA2CspHQKHOQ1UKg6bjUG",
      "include_colab_link": true
    },
    "kernelspec": {
      "name": "python3",
      "display_name": "Python 3"
    },
    "language_info": {
      "name": "python"
    }
  },
  "cells": [
    {
      "cell_type": "markdown",
      "metadata": {
        "id": "view-in-github",
        "colab_type": "text"
      },
      "source": [
        "<a href=\"https://colab.research.google.com/github/albuut/Medical-Malpractice-Analysis/blob/Google-Collab-Edit/CS203_PROJECT.ipynb\" target=\"_parent\"><img src=\"https://colab.research.google.com/assets/colab-badge.svg\" alt=\"Open In Colab\"/></a>"
      ]
    },
    {
      "cell_type": "markdown",
      "source": [
        "Make sure to clone the repository into the Google Colab."
      ],
      "metadata": {
        "id": "spAkx6zgggdl"
      }
    },
    {
      "cell_type": "code",
      "source": [
        "!git clone https://github.com/albuut/Medical-Malpractice-Analysis.git"
      ],
      "metadata": {
        "id": "CZmegu1FgJMu",
        "outputId": "fef21d9e-8662-4d4b-9db0-1049ece323d3",
        "colab": {
          "base_uri": "https://localhost:8080/"
        }
      },
      "execution_count": 10,
      "outputs": [
        {
          "output_type": "stream",
          "name": "stdout",
          "text": [
            "fatal: destination path 'Medical-Malpractice-Analysis' already exists and is not an empty directory.\n"
          ]
        }
      ]
    },
    {
      "cell_type": "markdown",
      "source": [
        "# Data Cleaning\n",
        "\n",
        "Data manipulated from the origional data set\n",
        "\n",
        "1. Amount: Log(Amount)\n",
        "\n",
        "2. Speciality: Dummy variable encoded into different specialities.\n",
        "\n",
        "3. Insurance: Dummy variable enconded into different insurances.\n",
        "\n",
        "4. Marital Status: Dummy variabled econded into different marital status.\n",
        "\n",
        "5. Gender: One hot encoded gender for Male = 0 and Female = 1.\n",
        "\n",
        "\n"
      ],
      "metadata": {
        "id": "Dv6ctTJba3Lf"
      }
    },
    {
      "cell_type": "code",
      "source": [
        "!python process_data.py medicalmalpractice.csv log10_data.csv 10"
      ],
      "metadata": {
        "id": "9QT_TGJngYiU",
        "outputId": "471f31b5-79b8-4e27-edaa-d8e7996c1a18",
        "colab": {
          "base_uri": "https://localhost:8080/"
        }
      },
      "execution_count": 18,
      "outputs": [
        {
          "output_type": "stream",
          "name": "stdout",
          "text": [
            "Successfully processed data to: log10_data.csv\n"
          ]
        }
      ]
    },
    {
      "cell_type": "code",
      "source": [],
      "metadata": {
        "id": "CHiHYrQqjD5u"
      },
      "execution_count": null,
      "outputs": []
    }
  ]
}