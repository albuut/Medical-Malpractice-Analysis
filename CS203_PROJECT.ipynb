{
  "nbformat": 4,
  "nbformat_minor": 0,
  "metadata": {
    "colab": {
      "provenance": [],
      "toc_visible": true,
      "authorship_tag": "ABX9TyOO1uWDZxGOdjYuGqMVqWsN",
      "include_colab_link": true
    },
    "kernelspec": {
      "name": "python3",
      "display_name": "Python 3"
    },
    "language_info": {
      "name": "python"
    }
  },
  "cells": [
    {
      "cell_type": "markdown",
      "metadata": {
        "id": "view-in-github",
        "colab_type": "text"
      },
      "source": [
        "<a href=\"https://colab.research.google.com/github/albuut/Medical-Malpractice-Analysis/blob/Google-Collab-Edit/CS203_PROJECT.ipynb\" target=\"_parent\"><img src=\"https://colab.research.google.com/assets/colab-badge.svg\" alt=\"Open In Colab\"/></a>"
      ]
    },
    {
      "cell_type": "markdown",
      "source": [],
      "metadata": {
        "id": "WcBsKzHCa0xu"
      }
    },
    {
      "cell_type": "markdown",
      "source": [
        "# Data Cleaning\n",
        "\n",
        "Data manipulated from the origional data set\n",
        "\n",
        "1. Amount: Log(Amount)\n",
        "\n",
        "2. Speciality: Dummy variable encoded into different specialities.\n",
        "\n",
        "3. Insurance: Dummy variable enconded into different insurances.\n",
        "\n",
        "4. Marital Status: Dummy variabled econded into different marital status.\n",
        "\n",
        "5. Gender: One hot encoded gender for Male = 0 and Female = 1.\n",
        "\n",
        "\n"
      ],
      "metadata": {
        "id": "Dv6ctTJba3Lf"
      }
    },
    {
      "cell_type": "code",
      "source": [],
      "metadata": {
        "id": "r9t8zuA1dQnz"
      },
      "execution_count": null,
      "outputs": []
    }
  ]
}